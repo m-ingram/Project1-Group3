{
 "cells": [
  {
   "cell_type": "markdown",
   "metadata": {},
   "source": [
    "# Generating team and salaries data"
   ]
  },
  {
   "cell_type": "code",
   "execution_count": null,
   "metadata": {},
   "outputs": [],
   "source": [
    "# Dependencies and Setup\n",
    "import matplotlib.pyplot as plt\n",
    "import pandas as pd\n",
    "import matplotlib.ticker as ticker\n",
    "from scipy.stats import linregress\n"
   ]
  },
  {
   "cell_type": "code",
   "execution_count": null,
   "metadata": {},
   "outputs": [],
   "source": [
    "#Teams data import\n",
    "\n",
    "teams_df = pd.read_csv(\"Baseball Dataset\\Teams.csv\")\n",
    "                          \n",
    "teams_df.head()\n",
    "\n",
    "#Limiting data to years 1985 - 2015\n",
    "teams_df = teams_df[teams_df['yearID']>=1985].reset_index(drop=True)\n",
    "\n",
    "teams_df.head()\n",
    "\n",
    "teams_df.groupby('franchID').count()\n",
    "\n",
    "#Limiting to franchise in full sample\n",
    "    #Note: The Arizona Diamondbacks, Colorado Rockies, Flordia Marlins, and Tampa Bay Devils franchises \n",
    "    #did not exist during the full study time perion (1985-2015) and are dropped from the dataset\n",
    "\n",
    "excluded_franchID = ['ARI','COL','FLA','TBD']\n",
    "\n",
    "teams_df = teams_df.loc[~teams_df['franchID'].isin(excluded_franchID)]\n",
    "\n",
    "teams_df.groupby('franchID').count()\n"
   ]
  },
  {
   "cell_type": "code",
   "execution_count": null,
   "metadata": {},
   "outputs": [],
   "source": [
    "#Salaries data import\n",
    "\n",
    "salaries_df = pd.read_csv(\"Baseball Dataset\\Salaries.csv\")\n",
    "                          \n",
    "salaries_df.head()\n",
    "\n"
   ]
  },
  {
   "cell_type": "code",
   "execution_count": null,
   "metadata": {},
   "outputs": [],
   "source": [
    "#Team player salaries summary statistics\n",
    "team_salary_stats = salaries_df.groupby(['yearID','teamID']).agg(total_player_salaries = ('salary', 'sum'),\n",
    "                                                                  med_player_salary = ('salary','median'),\n",
    "                                                                  min_player_salary = ('salary','min'),\n",
    "                                                                  max_player_salary = ('salary','max'),\n",
    "                                                                  salary_var = ('salary','var'))\n",
    "\n",
    "team_salary_stats.head()"
   ]
  },
  {
   "cell_type": "code",
   "execution_count": null,
   "metadata": {},
   "outputs": [],
   "source": [
    "#Checking # of teams per year\n",
    "team_salary_stats.groupby('yearID').nunique()\n",
    "\n",
    "#Consider restricting our sample to original 26 teams\n"
   ]
  },
  {
   "cell_type": "code",
   "execution_count": null,
   "metadata": {},
   "outputs": [],
   "source": [
    "#Merging Team and Salary Data\n",
    "team_salary_df = pd.merge(teams_df, team_salary_stats, on = ('yearID','teamID'))\n",
    "\n",
    "team_salary_df.head() \n",
    "\n",
    "# Export the merged data into a csv\n",
    "team_salary_df.to_csv(\"Output/team_salary_merged.csv\", index=False)\n",
    "    "
   ]
  },
  {
   "cell_type": "code",
   "execution_count": null,
   "metadata": {},
   "outputs": [],
   "source": [
    "#Adding CBT thresholds and flags for 2003-2015\n",
    "\n",
    "thresholds = pd.read_csv(\"Salary Thresholds/2003-2015 Salary Thresholds.csv\", thousands=',')\n",
    "\n",
    "team_salary_2003_2015 = pd.merge(team_salary_df,thresholds, left_on='yearID', right_on='Year')\n",
    "\n",
    "team_salary_2003_2015['over_threshold'] =np.where(team_salary_2003_2015['total_player_salaries']>team_salary_2003_2015['Threshold'], 1,0)\n",
    "\n",
    "team_salary_2003_2015['times_over_threshold'] = team_salary_2003_2015.groupby('franchID')['over_threshold'].cumsum()\n",
    "\n",
    "team_salary_2003_2015.head()"
   ]
  },
  {
   "cell_type": "code",
   "execution_count": null,
   "metadata": {},
   "outputs": [],
   "source": [
    "#Dataset info\n",
    "team_salary_2003_2015.info() \n",
    "\n",
    "team_salary_2003_2015.describe()"
   ]
  },
  {
   "cell_type": "code",
   "execution_count": null,
   "metadata": {},
   "outputs": [],
   "source": [
    "rank_by_salary_df = teams_df.copy(deep=True)\n",
    "rank_by_salary_df[\"Salary Rank\"] = \"\"\n",
    "rank_by_salary_df.head()"
   ]
  },
  {
   "cell_type": "code",
   "execution_count": null,
   "metadata": {},
   "outputs": [],
   "source": [
    "# adding a salary difference column\n",
    "diff_by_salary_df = team_salary_df.copy(deep=True)\n",
    "diff_by_salary_df[\"Salary Rank\"] = \"\"\n",
    "diff_by_salary_df.head()"
   ]
  },
  {
   "cell_type": "code",
   "execution_count": null,
   "metadata": {},
   "outputs": [],
   "source": [
    "team_salary_df['Salary Rank'] = team_salary_df.groupby(\"yearID\")[\"total_player_salaries\"].rank(ascending=False).astype(int)\n",
    "\n",
    "team_salary_df.head()"
   ]
  },
  {
   "cell_type": "code",
   "execution_count": null,
   "metadata": {},
   "outputs": [],
   "source": [
    "#Merging team, salary, and salary rank data\n",
    "\n",
    "#yearly_team_salaries = yearly_team_salaries.drop(columns='total_player_salaries')\n",
    "\n",
    "team_salary_df['Salary Rank'] = team_salary_df.groupby(\"yearID\")[\"total_player_salaries\"].rank(ascending=False).astype(int)\n",
    "\n",
    "#Merging salary thresholds for 2003-2015\n",
    "\n",
    "thresholds = pd.read_csv(\"Salary Thresholds/2003-2015 Salary Thresholds.csv\", thousands=',')\n",
    "\n",
    "team_salary_tax_df = pd.merge(team_salary_df,thresholds, left_on='yearID', right_on='Year', how='left').drop(columns=[\"Year\"])\n",
    "\n",
    "team_salary_tax_df['Threshold'].fillna(0,inplace=True)\n",
    "\n",
    "#Creating Taxed (over_threshold) Flag for all years\n",
    "top_5_years = [1997,1998,1999,2002]\n",
    "\n",
    "team_salary_tax_df['over_threshold'] = np.where(np.logical_xor(np.logical_and(team_salary_tax_df['yearID'].isin(top_5_years), team_salary_tax_df['Salary Rank'] <=5),\n",
    "                                                               np.logical_and(team_salary_tax_df['yearID'] >=2003, team_salary_tax_df['total_player_salaries']>team_salary_tax_df['Threshold'])),\n",
    "                                                 1,0)\n",
    "     #for 1997-2002 top 5 spending teams were taxed\n",
    "     #for 2003-2015 teams were taxed if spent over threshold\n",
    "\n",
    "\n",
    "team_salary_tax_df.head()\n",
    "\n"
   ]
  },
  {
   "cell_type": "code",
   "execution_count": null,
   "metadata": {},
   "outputs": [],
   "source": [
    "#Counting # of times taxed since 1997\n",
    "team_salary_tax_df['times_over_threshold'] = team_salary_tax_df.groupby('franchID')['over_threshold'].cumsum()\n",
    "\n",
    "# Export the merged data into a csv\n",
    "team_salary_tax_df.to_csv(\"Output/team_salary_tax.csv\", index=False)\n",
    "\n",
    "#Sorting by most to less taxed teams\n",
    "\n",
    "df_2015 = team_salary_tax_df[team_salary_tax_df['yearID']==2015]\n",
    "times_taxed = df_2015[['franchID', 'name', 'times_over_threshold']].sort_values('times_over_threshold', ascending=False)\n",
    "\n",
    "times_taxed\n",
    "\n"
   ]
  },
  {
   "cell_type": "code",
   "execution_count": null,
   "metadata": {},
   "outputs": [],
   "source": [
    "taxed_df = team_salary_tax_df[team_salary_tax_df['over_threshold']==1]"
   ]
  },
  {
   "cell_type": "markdown",
   "metadata": {},
   "source": [
    "# Question 1 Analysis, salary impacts"
   ]
  },
  {
   "cell_type": "code",
   "execution_count": null,
   "metadata": {},
   "outputs": [],
   "source": [
    "# group by year and franchID, and calculate the total player salaries for each group\n",
    "yearly_team_salaries = team_salary_df.groupby([\"yearID\", \"franchID\"])[\"total_player_salaries\"].sum().reset_index()\n",
    "\n",
    "# Rank the total player salaries within each year\n",
    "yearly_team_salaries['Salary Rank'] = yearly_team_salaries.groupby(\"yearID\")[\"total_player_salaries\"].rank(ascending=False).astype(int)\n",
    "\n",
    "yearly_team_salaries.head(-30)\n",
    "\n",
    "yearly_team_salaries[yearly_team_salaries[\"Salary Rank\"]==1]"
   ]
  },
  {
   "cell_type": "code",
   "execution_count": null,
   "metadata": {},
   "outputs": [],
   "source": [
    "# Rename the columns\n",
    "yearly_team_salaries_rename = yearly_team_salaries.rename(columns={'yearID': 'Year', 'franchID': 'Franchise ID', 'total_player_salaries': 'Total Team Salary'})\n",
    "\n",
    "yearly_team_salaries_rename"
   ]
  },
  {
   "cell_type": "code",
   "execution_count": null,
   "metadata": {},
   "outputs": [],
   "source": [
    "# getting the difference between top and bottom each year\n",
    "yearly_salary_difference = yearly_team_salaries_rename.groupby(\"Year\")[\"Total Team Salary\"].max() - yearly_team_salaries_rename.groupby(\"Year\")[\"Total Team Salary\"].min()\n",
    "\n",
    "# getting the average salary per year\n",
    "\n",
    "avg_salary_per_year = yearly_team_salaries_rename.groupby(\"Year\")[\"Total Team Salary\"].mean()\n",
    "\n",
    "# bar chart\n",
    "plt.figure(figsize=(10,6))\n",
    "bar_colors=[\"blue\" if year != 1997 else \"red\" for year in yearly_salary_difference.index]\n",
    "yearly_salary_difference.plot(kind=\"bar\", color=bar_colors)\n",
    "plt.title(\"Disparity Between Teams with Highest and Lowest Salaries per Year\")\n",
    "plt.xlabel(\"Year\")\n",
    "plt.ylabel(\"Salary Difference, USD\")\n",
    "plt.xticks(rotation=45)\n",
    "plt.tight_layout\n",
    "formatter = ticker.StrMethodFormatter('{x:,.0f}')\n",
    "plt.gca().yaxis.set_major_formatter(formatter)\n",
    "plt.savefig(\"Output/Disparity Fig.png\")\n",
    "plt.show()"
   ]
  },
  {
   "cell_type": "code",
   "execution_count": null,
   "metadata": {},
   "outputs": [],
   "source": [
    "avg_salary_per_year = yearly_team_salaries_rename.groupby(\"Year\")[\"Total Team Salary\"].mean().reset_index()\n",
    "\n",
    "# Linear regression line\n",
    "slope, intercept,_,_,_ = linregress(avg_salary_per_year[\"Year\"], avg_salary_per_year[\"Total Team Salary\"])\n",
    "regression_line = slope * avg_salary_per_year[\"Year\"] + intercept\n",
    "\n",
    "# Plotting the regression chart\n",
    "plt.figure(figsize=(10, 6))\n",
    "plt.scatter(avg_salary_per_year[\"Year\"], avg_salary_per_year[\"Total Team Salary\"], color='blue', label=\"Average Total Team Salary\")\n",
    "plt.plot(avg_salary_per_year[\"Year\"], regression_line, color=\"red\", linestyle=\"-\", label=\"Regression Line\")\n",
    "plt.title(\"Average Total Team Salary per Year (Regression)\")\n",
    "plt.xlabel(\"Year\")\n",
    "plt.ylabel(\"Average Total Team Salary, USD\")\n",
    "plt.grid(True, linestyle=\"--\", alpha=0.7)\n",
    "plt.legend()\n",
    "plt.tight_layout()\n",
    "plt.ticklabel_format(style='plain',axis=\"y\")\n",
    "formatter = ticker.StrMethodFormatter('{x:,.0f}')\n",
    "plt.gca().yaxis.set_major_formatter(formatter)\n",
    "plt.savefig(\"Output/Avg Regression Fig.png\")\n",
    "plt.show"
   ]
  },
  {
   "cell_type": "markdown",
   "metadata": {},
   "source": [
    "# Question 2 Analysis, wins vs salary"
   ]
  },
  {
   "cell_type": "markdown",
   "metadata": {},
   "source": []
  }
 ],
 "metadata": {
  "kernelspec": {
   "display_name": "base",
   "language": "python",
   "name": "python3"
  },
  "language_info": {
   "codemirror_mode": {
    "name": "ipython",
    "version": 3
   },
   "file_extension": ".py",
   "mimetype": "text/x-python",
   "name": "python",
   "nbconvert_exporter": "python",
   "pygments_lexer": "ipython3",
   "version": "3.11.5"
  }
 },
 "nbformat": 4,
 "nbformat_minor": 2
}
