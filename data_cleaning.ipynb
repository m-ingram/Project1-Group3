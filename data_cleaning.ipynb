{
 "cells": [
  {
   "cell_type": "markdown",
   "metadata": {},
   "source": [
    "### Generating team and salaries data\n",
    "--------------------------------------------------------------------------\n",
    "To add: description of data/data source"
   ]
  },
  {
   "cell_type": "code",
   "execution_count": null,
   "metadata": {},
   "outputs": [],
   "source": [
    "# Dependencies and Setup\n",
    "import matplotlib.pyplot as plt\n",
    "import pandas as pd\n",
    "import numpy as np\n"
   ]
  },
  {
   "cell_type": "code",
   "execution_count": null,
   "metadata": {},
   "outputs": [],
   "source": [
    "#Teams data import\n",
    "\n",
    "teams_df = pd.read_csv(\"Baseball Dataset\\Teams.csv\")\n",
    "                          \n",
    "teams_df.head()\n",
    "\n",
    "#Limiting data to years 1985 - 2015\n",
    "teams_df = teams_df[teams_df['yearID']>=1985].reset_index(drop=True)\n",
    "\n",
    "teams_df.head()\n",
    "\n",
    "teams_df.groupby('franchID').count()\n",
    "\n",
    "#Limiting to franchise in full sample\n",
    "    #Note: The Arizona Diamondbacks, Colorado Rockies, Flordia Marlins, and Tampa Bay Devils franchises \n",
    "    #did not exist during the full study time perion (1985-2015) and are dropped from the dataset\n",
    "\n",
    "excluded_franchID = ['ARI','COL','FLA','TBD']\n",
    "\n",
    "teams_df = teams_df.loc[~teams_df['franchID'].isin(excluded_franchID)]\n",
    "\n",
    "teams_df.groupby('franchID').count()\n"
   ]
  },
  {
   "cell_type": "code",
   "execution_count": null,
   "metadata": {},
   "outputs": [],
   "source": [
    "#Salaries data import\n",
    "\n",
    "salaries_df = pd.read_csv(\"Baseball Dataset\\Salaries.csv\")\n",
    "                          \n",
    "salaries_df.head()\n",
    "\n"
   ]
  },
  {
   "cell_type": "code",
   "execution_count": null,
   "metadata": {},
   "outputs": [],
   "source": [
    "#Team player salaries summary statistics\n",
    "team_salary_stats = salaries_df.groupby(['yearID','teamID']).agg(total_player_salaries = ('salary', 'sum'),\n",
    "                                                                  med_player_salary = ('salary','median'),\n",
    "                                                                  min_player_salary = ('salary','min'),\n",
    "                                                                  max_player_salary = ('salary','max'),\n",
    "                                                                  salary_var = ('salary','var'))\n",
    "\n",
    "team_salary_stats.head()"
   ]
  },
  {
   "cell_type": "code",
   "execution_count": null,
   "metadata": {},
   "outputs": [],
   "source": [
    "#Checking # of teams per year\n",
    "team_salary_stats.groupby('yearID').nunique()\n",
    "\n",
    "#Consider restricting our sample to original 26 teams\n"
   ]
  },
  {
   "cell_type": "code",
   "execution_count": null,
   "metadata": {},
   "outputs": [],
   "source": [
    "#Merging Team and Salary Data\n",
    "team_salary_df = pd.merge(teams_df, team_salary_stats, on = ('yearID','teamID'))\n",
    "\n",
    "team_salary_df.head() \n",
    "\n",
    "# Export the merged data into a csv\n",
    "team_salary_df.to_csv(\"Output/team_salary_merged.csv\", index=False)\n",
    "    "
   ]
  },
  {
   "cell_type": "code",
   "execution_count": null,
   "metadata": {},
   "outputs": [],
   "source": [
    "#Adding CBT thresholds and flags for 2003-2015\n",
    "\n",
    "thresholds = pd.read_csv(\"Salary Thresholds/2003-2015 Salary Thresholds.csv\", thousands=',')\n",
    "\n",
    "team_salary_2003_2015 = pd.merge(team_salary_df,thresholds, left_on='yearID', right_on='Year')\n",
    "\n",
    "team_salary_2003_2015['over_threshold'] =np.where(team_salary_2003_2015['total_player_salaries']>team_salary_2003_2015['Threshold'], 1,0)\n",
    "\n",
    "team_salary_2003_2015['times_over_threshold'] = team_salary_2003_2015.groupby('franchID')['over_threshold'].cumsum()\n",
    "\n",
    "team_salary_2003_2015.head()"
   ]
  },
  {
   "cell_type": "code",
   "execution_count": null,
   "metadata": {},
   "outputs": [],
   "source": [
    "#Dataset info\n",
    "team_salary_2003_2015.info() \n",
    "\n",
    "team_salary_2003_2015.describe()"
   ]
  }
 ],
 "metadata": {
  "kernelspec": {
   "display_name": "base",
   "language": "python",
   "name": "python3"
  },
  "language_info": {
   "codemirror_mode": {
    "name": "ipython",
    "version": 3
   },
   "file_extension": ".py",
   "mimetype": "text/x-python",
   "name": "python",
   "nbconvert_exporter": "python",
   "pygments_lexer": "ipython3",
   "version": "3.11.5"
  }
 },
 "nbformat": 4,
 "nbformat_minor": 2
}
